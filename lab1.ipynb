{
 "cells": [
  {
   "cell_type": "code",
   "execution_count": 1,
   "metadata": {},
   "outputs": [],
   "source": [
    "#define function to return and its distance\n",
    "#from the passed node\n",
    "def get_neighbors(v):\n",
    "    if v in Graph_nodes:\n",
    "        return Graph_nodes[v]\n",
    "    else:\n",
    "        return None"
   ]
  },
  {
   "cell_type": "code",
   "execution_count": 2,
   "metadata": {},
   "outputs": [],
   "source": [
    "#for simplicity we ll consider heuristic distance given\n",
    "#And this function returns heuristic distsnce for all nodes\n",
    "def heuristic(n):\n",
    "        H_dist = {\n",
    "            'A' : 11,\n",
    "            'B' : 6,\n",
    "            'C' : 99,\n",
    "            'D' : 1,\n",
    "            'E' : 7,\n",
    "            'G' : 0,\n",
    "        }\n",
    "        return H_dist[n]"
   ]
  },
  {
   "cell_type": "code",
   "execution_count": 3,
   "metadata": {},
   "outputs": [],
   "source": [
    "def aStarAlgo(start_node, stop_node):\n",
    "      open_set = set(start_node)\n",
    "      closed_set = set()\n",
    "      g = { } #store distance from starting node\n",
    "      parents = { } #parents contains an adjacency map of all nodes\n",
    "\n",
    "      #distance of starting node from itself is zero\n",
    "      g[start_node] = 0\n",
    "      #start_node s root node i.e t has no parent nodes\n",
    "      #so start_nodes is set to its own parent node\n",
    "      parents[start_node] = start_node\n",
    "\n",
    "      while len(open_set)>0:\n",
    "           n = None\n",
    "\n",
    "           #node with lowest f() is found\n",
    "           for v in open_set:\n",
    "              if n == None or g[v] + heuristic(v) < g[n] + heuristic(n):\n",
    "                   n = v\n",
    "\n",
    "           if n == stop_node or Graph_nodes[n] == None:\n",
    "              pass\n",
    "           else:\n",
    "              for(m, weight) in get_neighbors(n):\n",
    "                  #nodes 'm' not in first and last set are added to first\n",
    "                  #n is set its parent\n",
    "                  if m not in open_set and m not in closed_set:\n",
    "                      open_set.add(m)\n",
    "                      parents[m] = n\n",
    "                      g[m] = g[n] + weight\n",
    "\n",
    "                  #for rach node m , compare its distance from start i.e g(m)\n",
    "                  #from start through n node\n",
    "                  else:\n",
    "                      if g[m] > g[n] + weight:\n",
    "                        #update g(m)\n",
    "                        g[m] = g[n] + weight\n",
    "                        #change parent of m to n\n",
    "                        parents[m] = n\n",
    "\n",
    "                        #if  m n closed_set, remove and add to open\n",
    "                        if m in closed_set:\n",
    "                              closed_set.remove(m)\n",
    "                              open_set.add(m)\n",
    "           if n == None:\n",
    "              print('path does not exist!')\n",
    "              return None\n",
    "\n",
    "            #if the current node is the stop_node\n",
    "            #then we begin reconstruction the path from it to the start_node\n",
    "\n",
    "           if n == stop_node:\n",
    "              path = []\n",
    "\n",
    "              while parents[n] != n:\n",
    "                  path.append(n)\n",
    "                  n = parents[n]\n",
    "              path.append (start_node)\n",
    "              path.reverse()\n",
    "              print('path found: {}'.format(path))\n",
    "              return path\n",
    "\n",
    "            #remove n from the open_list, and add t to closed_list\n",
    "            #because all of his neighbors were inspected\n",
    "           open_set.remove(n)\n",
    "           closed_set.add(n)\n",
    "      print('path does not exist!')\n",
    "      return None\n"
   ]
  },
  {
   "cell_type": "code",
   "execution_count": 4,
   "metadata": {},
   "outputs": [
    {
     "name": "stdout",
     "output_type": "stream",
     "text": [
      "path found: ['A', 'E', 'D', 'G']\n"
     ]
    },
    {
     "data": {
      "text/plain": [
       "['A', 'E', 'D', 'G']"
      ]
     },
     "execution_count": 4,
     "metadata": {},
     "output_type": "execute_result"
    }
   ],
   "source": [
    "#describe your graph here\n",
    "\n",
    "Graph_nodes = {\n",
    "      'A' : [('B', 2), ('E', 3)],\n",
    "      'B' : [('C', 1), ('G', 9)],\n",
    "      'C' : None,\n",
    "      'E' : [('D', 6)],\n",
    "      'D' : [('G', 1)],\n",
    "\n",
    "}\n",
    "aStarAlgo('A', 'G')"
   ]
  },
  {
   "cell_type": "code",
   "execution_count": null,
   "metadata": {},
   "outputs": [],
   "source": []
  }
 ],
 "metadata": {
  "kernelspec": {
   "display_name": "Python 3",
   "language": "python",
   "name": "python3"
  },
  "language_info": {
   "codemirror_mode": {
    "name": "ipython",
    "version": 3
   },
   "file_extension": ".py",
   "mimetype": "text/x-python",
   "name": "python",
   "nbconvert_exporter": "python",
   "pygments_lexer": "ipython3",
   "version": "3.8.3"
  }
 },
 "nbformat": 4,
 "nbformat_minor": 4
}
