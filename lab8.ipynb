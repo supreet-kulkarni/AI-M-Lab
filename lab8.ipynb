{
 "cells": [
  {
   "cell_type": "code",
   "execution_count": 1,
   "metadata": {},
   "outputs": [],
   "source": [
    "from sklearn.model_selection import train_test_split\n",
    "from sklearn.neighbors import KNeighborsClassifier\n",
    "from sklearn import datasets"
   ]
  },
  {
   "cell_type": "code",
   "execution_count": 2,
   "metadata": {},
   "outputs": [
    {
     "name": "stdout",
     "output_type": "stream",
     "text": [
      "Iris Data set loded...\n"
     ]
    }
   ],
   "source": [
    "iris=datasets.load_iris()\n",
    "print(\"Iris Data set loded...\")"
   ]
  },
  {
   "cell_type": "code",
   "execution_count": 3,
   "metadata": {},
   "outputs": [
    {
     "name": "stdout",
     "output_type": "stream",
     "text": [
      "Dataset is split into training data and testing samples..\n",
      "Size of training data and its label (135, 4) (135,)\n",
      "Size of training data and its label (15, 4) (15,)\n",
      "Label 0 - setosa\n",
      "Label 1 - versicolor\n",
      "Label 2 - virginica\n",
      "results of classification using K-nn with K=1\n",
      "Sample: [7.2 3.  5.8 1.6] Actual-label: 2 Predicted-label: 2\n",
      "Sample: [6.2 2.9 4.3 1.3] Actual-label: 1 Predicted-label: 1\n",
      "Sample: [6.9 3.1 4.9 1.5] Actual-label: 1 Predicted-label: 1\n",
      "Sample: [6.  2.7 5.1 1.6] Actual-label: 1 Predicted-label: 2\n",
      "Sample: [4.8 3.  1.4 0.1] Actual-label: 0 Predicted-label: 0\n",
      "Sample: [6.9 3.1 5.4 2.1] Actual-label: 2 Predicted-label: 2\n",
      "Sample: [4.6 3.2 1.4 0.2] Actual-label: 0 Predicted-label: 0\n",
      "Sample: [5.8 2.7 3.9 1.2] Actual-label: 1 Predicted-label: 1\n",
      "Sample: [7.3 2.9 6.3 1.8] Actual-label: 2 Predicted-label: 2\n",
      "Sample: [6.4 2.9 4.3 1.3] Actual-label: 1 Predicted-label: 1\n",
      "Sample: [5.8 4.  1.2 0.2] Actual-label: 0 Predicted-label: 0\n",
      "Sample: [7.7 3.8 6.7 2.2] Actual-label: 2 Predicted-label: 2\n",
      "Sample: [6.7 3.  5.2 2.3] Actual-label: 2 Predicted-label: 2\n",
      "Sample: [6.3 3.3 4.7 1.6] Actual-label: 1 Predicted-label: 1\n",
      "Sample: [5.7 2.6 3.5 1. ] Actual-label: 1 Predicted-label: 1\n",
      "Calssification Accuracy: 0.9333333333333333\n"
     ]
    }
   ],
   "source": [
    "x_train,x_test,y_train,y_test=train_test_split(iris.data,iris.target,test_size=0.1)\n",
    "print(\"Dataset is split into training data and testing samples..\")\n",
    "print(\"Size of training data and its label\",x_train.shape,y_train.shape)\n",
    "print(\"Size of training data and its label\",x_test.shape,y_test.shape)\n",
    "for i in range(len(iris.target_names)):\n",
    "    print(\"Label\",i,\"-\",str(iris.target_names[i]))\n",
    "classifier=KNeighborsClassifier(n_neighbors=1)\n",
    "classifier.fit(x_train,y_train)\n",
    "y_pred=classifier.predict(x_test)\n",
    "print(\"results of classification using K-nn with K=1\")\n",
    "for r in range(0,len(x_test)):\n",
    "    print(\"Sample:\",str(x_test[r]),\"Actual-label:\",str(y_test[r]),\"Predicted-label:\",str(y_pred[r]))\n",
    "print(\"Calssification Accuracy:\",classifier.score(x_test,y_test))"
   ]
  },
  {
   "cell_type": "code",
   "execution_count": null,
   "metadata": {},
   "outputs": [],
   "source": []
  },
  {
   "cell_type": "code",
   "execution_count": null,
   "metadata": {},
   "outputs": [],
   "source": []
  }
 ],
 "metadata": {
  "kernelspec": {
   "display_name": "Python 3",
   "language": "python",
   "name": "python3"
  },
  "language_info": {
   "codemirror_mode": {
    "name": "ipython",
    "version": 3
   },
   "file_extension": ".py",
   "mimetype": "text/x-python",
   "name": "python",
   "nbconvert_exporter": "python",
   "pygments_lexer": "ipython3",
   "version": "3.8.3"
  }
 },
 "nbformat": 4,
 "nbformat_minor": 4
}
