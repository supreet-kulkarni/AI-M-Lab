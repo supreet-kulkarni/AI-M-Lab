{
 "cells": [
  {
   "cell_type": "code",
   "execution_count": 1,
   "metadata": {},
   "outputs": [
    {
     "name": "stdout",
     "output_type": "stream",
     "text": [
      "X [[2. 9.]\n",
      " [1. 5.]\n",
      " [3. 6.]]\n",
      "Y [[92.]\n",
      " [86.]\n",
      " [89.]]\n",
      "X [[0.66666667 1.        ]\n",
      " [0.33333333 0.55555556]\n",
      " [1.         0.66666667]]\n",
      "Y [[0.92]\n",
      " [0.86]\n",
      " [0.89]]\n"
     ]
    }
   ],
   "source": [
    "import numpy as np\n",
    "X=np.array(([2,9],[1,5],[3,6]),dtype=float)\n",
    "print(\"X\",X)\n",
    "Y=np.array(([92],[86],[89]),dtype=float)\n",
    "print(\"Y\",Y)\n",
    "X=X/np.amax(X,axis=0) \n",
    "print(\"X\",X)\n",
    "Y=Y/100\n",
    "print(\"Y\",Y)"
   ]
  },
  {
   "cell_type": "code",
   "execution_count": 2,
   "metadata": {},
   "outputs": [],
   "source": [
    "def sigmoid(X):\n",
    "    return 1/(1+np.exp(-X))"
   ]
  },
  {
   "cell_type": "code",
   "execution_count": 3,
   "metadata": {},
   "outputs": [],
   "source": [
    "def derivative_sigmoid(X):\n",
    "    return X/(1-X)"
   ]
  },
  {
   "cell_type": "code",
   "execution_count": 4,
   "metadata": {},
   "outputs": [],
   "source": [
    "epoch=500\n",
    "lr=0.1\n",
    "hiddenlayer_neurons=3\n",
    "inputlayer_neurons=2\n",
    "output_neurons=1"
   ]
  },
  {
   "cell_type": "code",
   "execution_count": 5,
   "metadata": {},
   "outputs": [],
   "source": [
    "wh=np.random.uniform(size=(inputlayer_neurons,hiddenlayer_neurons))\n",
    "bh=np.random.uniform(size=(1,hiddenlayer_neurons))\n",
    "wout=np.random.uniform(size=(hiddenlayer_neurons,output_neurons))\n",
    "bout=np.random.uniform(size=(1,output_neurons))"
   ]
  },
  {
   "cell_type": "code",
   "execution_count": 6,
   "metadata": {},
   "outputs": [],
   "source": [
    "for i in range(epoch):\n",
    "    hinp1=np.dot(X,wh)\n",
    "    hinp=hinp1+bh\n",
    "    hlayer_act=sigmoid(hinp)\n",
    "outinp1=np.dot(hlayer_act,wout)\n",
    "outinp=outinp1+bout\n",
    "output=sigmoid(outinp)"
   ]
  },
  {
   "cell_type": "code",
   "execution_count": 7,
   "metadata": {},
   "outputs": [
    {
     "name": "stdout",
     "output_type": "stream",
     "text": [
      "input:\n",
      "[[0.66666667 1.        ]\n",
      " [0.33333333 0.55555556]\n",
      " [1.         0.66666667]]\n",
      "actual output:\n",
      " [[0.92]\n",
      " [0.86]\n",
      " [0.89]]\n",
      "predicted output:\n",
      " [[0.88538935]\n",
      " [0.87983202]\n",
      " [0.8879052 ]]\n"
     ]
    }
   ],
   "source": [
    "EO=Y-output\n",
    "outgrad=derivative_sigmoid(output)\n",
    "d_output=EO*outgrad\n",
    "EH=d_output.dot(wout.T)\n",
    "hiddengrad=derivative_sigmoid(hlayer_act)\n",
    "d_hiddenlayer=EH*hiddengrad\n",
    "wout += hlayer_act.T.dot(d_output)\n",
    "wh=X.T.dot(d_hiddenlayer)*lr\n",
    "print(\"input:\\n\"+str(X))\n",
    "print(\"actual output:\\n\",str(Y))\n",
    "print(\"predicted output:\\n\",output)"
   ]
  },
  {
   "cell_type": "code",
   "execution_count": null,
   "metadata": {},
   "outputs": [],
   "source": []
  },
  {
   "cell_type": "code",
   "execution_count": null,
   "metadata": {},
   "outputs": [],
   "source": []
  }
 ],
 "metadata": {
  "kernelspec": {
   "display_name": "Python 3",
   "language": "python",
   "name": "python3"
  },
  "language_info": {
   "codemirror_mode": {
    "name": "ipython",
    "version": 3
   },
   "file_extension": ".py",
   "mimetype": "text/x-python",
   "name": "python",
   "nbconvert_exporter": "python",
   "pygments_lexer": "ipython3",
   "version": "3.8.3"
  }
 },
 "nbformat": 4,
 "nbformat_minor": 4
}
